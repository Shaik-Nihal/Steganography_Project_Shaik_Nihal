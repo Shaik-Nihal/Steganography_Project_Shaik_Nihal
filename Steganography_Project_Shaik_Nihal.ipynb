{
 "cells": [
  {
   "cell_type": "markdown",
   "id": "afbe5a53",
   "metadata": {},
   "source": [
    "<h1 style=\"text-align: center; color: navy; font-size: 36px;\">\n",
    "📢 Steganography - Hiding Messages in Images\n",
    "</h1>\n",
    "<h3 style=\"text-align: center; color:gray; font-size: 25px;\">\n",
    "XOR Encryption + Base64 + Bit‑Level Embedding via LSB\n",
    "</h3>\n",
    "<h3 style=\"text-align: center; color: black;\">by Shaik Nihal</h3>\n"
   ]
  },
  {
   "cell_type": "code",
   "execution_count": 82,
   "id": "80106082",
   "metadata": {},
   "outputs": [],
   "source": [
    "# --- Required Libraries ---\n",
    "import tkinter as tk\n",
    "from tkinter import filedialog, simpledialog, messagebox\n",
    "from PIL import Image, ImageTk  # For image handling and GUI preview\n",
    "import cv2  # For image processing and pixel manipulation\n",
    "import numpy as np\n",
    "import base64  # For safe string encoding/decoding\n",
    "import os\n"
   ]
  },
  {
   "cell_type": "code",
   "execution_count": 83,
   "id": "4a3f1445",
   "metadata": {},
   "outputs": [],
   "source": [
    "# --- Character Dictionaries for XOR Encryption ---\n",
    "d = {chr(i): i for i in range(256)}  # char to ASCII\n",
    "c = {i: chr(i) for i in range(256)}  # ASCII to char"
   ]
  },
  {
   "cell_type": "code",
   "execution_count": 84,
   "id": "bef13b2e",
   "metadata": {},
   "outputs": [],
   "source": [
    "# --- XOR Encryption & Decryption Functions ---\n",
    "def xor_encrypt(text, key):\n",
    "    # Encrypt each character using XOR with repeating key\n",
    "    return ''.join([c[d[t] ^ d[key[i % len(key)]]] for i, t in enumerate(text)])"
   ]
  },
  {
   "cell_type": "code",
   "execution_count": 85,
   "id": "d3f06dd5",
   "metadata": {},
   "outputs": [],
   "source": [
    "\n",
    "def xor_decrypt(cipher, key):\n",
    "    # Decrypt XOR-encrypted text using the same key\n",
    "    return ''.join([c[d[ch] ^ d[key[i % len(key)]]] for i, ch in enumerate(cipher)])"
   ]
  },
  {
   "cell_type": "code",
   "execution_count": 86,
   "id": "c02d9a9b",
   "metadata": {},
   "outputs": [],
   "source": [
    "# --- Helper Functions ---\n",
    "def str_to_bits(s):\n",
    "    # Convert a list of integers (ASCII values) to a list of binary bits\n",
    "    return [int(b) for ch in s for b in format(ch, '08b')]"
   ]
  },
  {
   "cell_type": "code",
   "execution_count": 87,
   "id": "3129ff67",
   "metadata": {},
   "outputs": [],
   "source": [
    "def bits_to_bytes(bits):\n",
    "    # Convert list of bits back into bytes (integers)\n",
    "    return [int(''.join(str(bit) for bit in bits[i:i+8]), 2) for i in range(0, len(bits), 8)]"
   ]
  },
  {
   "cell_type": "code",
   "execution_count": 88,
   "id": "6af8f1e4",
   "metadata": {},
   "outputs": [],
   "source": [
    "# --- Image Encoding Function ---\n",
    "def encode_image(image_path, message, key, output_path):\n",
    "    img = cv2.imread(image_path)  # Load image as array\n",
    "    flat = img.flatten()  # Flatten pixel values for easy manipulation\n",
    "\n",
    "    encrypted = xor_encrypt(message, key)  # Encrypt the message\n",
    "    b64 = base64.b64encode(encrypted.encode()).decode()  # Encode to Base64\n",
    "    bits = str_to_bits([ord(ch) for ch in b64])  # Convert to bits\n",
    "\n",
    "    length = len(bits)\n",
    "    len_bits = list(map(int, format(length, '032b')))  # 32-bit length header\n",
    "    all_bits = len_bits + bits  # Combine length header + message bits\n",
    "\n",
    "    # Check if the image can hold the entire message\n",
    "    if len(all_bits) > len(flat):\n",
    "        raise ValueError(f\"Image too small to hold this message! Requires {len(all_bits)} pixels.\")\n",
    "\n",
    "    # Embed bits in the least significant bit of each pixel\n",
    "    for i, bit in enumerate(all_bits):\n",
    "        flat[i] = (flat[i] & 0xFE) | bit  # Replace LSB with our bit\n",
    "\n",
    "    encoded_img = flat.reshape(img.shape)  # Reshape to original shape\n",
    "    cv2.imwrite(output_path, encoded_img)  # Save encoded image\n",
    "    return True"
   ]
  },
  {
   "cell_type": "code",
   "execution_count": 89,
   "id": "e9ab9e6a",
   "metadata": {},
   "outputs": [],
   "source": [
    "# --- Image Decoding Function ---\n",
    "def decode_image(image_path, key):\n",
    "    img = cv2.imread(image_path)\n",
    "    flat = img.flatten()\n",
    "\n",
    "    len_bits = [flat[i] & 1 for i in range(32)]  # Read the first 32 bits to get message length\n",
    "    msg_len = int(''.join(str(b) for b in len_bits), 2)\n",
    "\n",
    "    # Validate if image has enough data\n",
    "    if (32 + msg_len) > len(flat):\n",
    "        raise ValueError(\"Corrupted or invalid image. Not enough data.\")\n",
    "\n",
    "    data_bits = [flat[i] & 1 for i in range(32, 32 + msg_len)]  # Extract message bits\n",
    "\n",
    "    if len(data_bits) % 8 != 0:\n",
    "        raise ValueError(\"Bitstream corrupted: not divisible by 8\")\n",
    "\n",
    "    byte_vals = bits_to_bytes(data_bits)\n",
    "    b64_str = ''.join(chr(b) for b in byte_vals)\n",
    "\n",
    "    try:\n",
    "        decoded_bytes = base64.b64decode(b64_str)  # Decode Base64\n",
    "        decoded_encrypted = decoded_bytes.decode()  # Convert bytes to string\n",
    "    except Exception as e:\n",
    "        raise ValueError(f\"Base64 decoding failed: {e}\")\n",
    "\n",
    "    decrypted = xor_decrypt(decoded_encrypted, key)  # Decrypt message\n",
    "    return decrypted\n"
   ]
  },
  {
   "cell_type": "code",
   "execution_count": 90,
   "id": "6e22db25",
   "metadata": {},
   "outputs": [],
   "source": [
    "# --- GUI Application ---\n",
    "class StegoApp:\n",
    "    def __init__(self, root):\n",
    "        self.root = root\n",
    "        self.root.title(\"🔐 Image Steganography Tool - XOR + Base64\")\n",
    "        self.root.geometry(\"800x600\")\n",
    "\n",
    "        self.img_label = None\n",
    "        self.img_preview = None\n",
    "        self.current_image_path = None\n",
    "\n",
    "        # Heading and notes\n",
    "        tk.Label(root, text=\"🛡️ Image Steganography (XOR + Base64)\", font=(\"Arial\", 16)).pack(pady=10)\n",
    "        tk.Label(root, text=\"📢 Use clear PNG images only. Avoid JPEG to preserve accuracy.\", fg=\"red\").pack()\n",
    "\n",
    "        # Buttons for actions\n",
    "        tk.Button(root, text=\"🔐 Hide Message in Image\", width=40, command=self.gui_encode).pack(pady=15)\n",
    "        tk.Button(root, text=\"🔓 Reveal Message from Image\", width=40, command=self.gui_decode).pack(pady=10)\n",
    "\n",
    "        # Area for image preview\n",
    "        self.img_label = tk.Label(root, bg=\"lightgrey\")\n",
    "        self.img_label.pack(pady=20)\n",
    "\n",
    "    def show_preview(self, path):\n",
    "        try:\n",
    "            pil_img = Image.open(path)\n",
    "            img_w, img_h = pil_img.size\n",
    "\n",
    "            max_size = (400, 400)  # Limit preview size\n",
    "            if img_w > max_size[0] or img_h > max_size[1]:\n",
    "                pil_img.thumbnail(max_size, Image.LANCZOS)  # Resize while keeping aspect ratio\n",
    "\n",
    "            self.img_preview = ImageTk.PhotoImage(pil_img)\n",
    "            self.img_label.configure(image=self.img_preview, text=\"\")\n",
    "            self.img_label.image = self.img_preview  # Keep reference to avoid garbage collection\n",
    "            self.img_label.config(width=pil_img.width, height=pil_img.height)\n",
    "        except Exception as e:\n",
    "            self.img_label.configure(text=f\"Image preview failed: {e}\", image=\"\")\n",
    "\n",
    "    def gui_encode(self):\n",
    "        # Select input image\n",
    "        image_path = filedialog.askopenfilename(title=\"Select PNG Image\", filetypes=[(\"PNG Images\", \"*.png\")])\n",
    "        if not image_path:\n",
    "            return\n",
    "        self.current_image_path = image_path\n",
    "        self.show_preview(image_path)\n",
    "\n",
    "        # Ask for message and key\n",
    "        message = simpledialog.askstring(\"Message\", \"Enter message to hide:\", parent=self.root)\n",
    "        key = simpledialog.askstring(\"Key\", \"Enter secret key:\", parent=self.root)\n",
    "        if not message or not key:\n",
    "            messagebox.showerror(\"Error\", \"Both message and key are required.\")\n",
    "            return\n",
    "\n",
    "        # Ask where to save the output\n",
    "        save_path = filedialog.asksaveasfilename(defaultextension=\".png\", title=\"Save Output Image\")\n",
    "        try:\n",
    "            encode_image(image_path, message, key, save_path)\n",
    "            messagebox.showinfo(\"Success\", f\"Message successfully hidden in:\\n{os.path.basename(save_path)}\")\n",
    "            self.show_preview(save_path)\n",
    "        except Exception as e:\n",
    "            messagebox.showerror(\"Encoding Error\", str(e))\n",
    "\n",
    "    def gui_decode(self):\n",
    "        # Select encoded image\n",
    "        image_path = filedialog.askopenfilename(title=\"Select PNG Image\", filetypes=[(\"PNG Images\", \"*.png\")])\n",
    "        if not image_path:\n",
    "            return\n",
    "        self.current_image_path = image_path\n",
    "        self.show_preview(image_path)\n",
    "\n",
    "        # Ask for decryption key\n",
    "        key = simpledialog.askstring(\"Key\", \"Enter decryption key:\", parent=self.root)\n",
    "        if not key:\n",
    "            messagebox.showerror(\"Error\", \"Decryption key is required.\")\n",
    "            return\n",
    "        try:\n",
    "            message = decode_image(image_path, key)\n",
    "            messagebox.showinfo(\"Decrypted Message\", f\"🔓 {message}\")\n",
    "        except Exception as e:\n",
    "            messagebox.showerror(\"Decoding Error\", str(e))"
   ]
  },
  {
   "cell_type": "code",
   "execution_count": 91,
   "id": "31d1edab",
   "metadata": {},
   "outputs": [],
   "source": [
    "# --- Launch the App ---\n",
    "def launch_gui():\n",
    "    root = tk.Tk()\n",
    "    app = StegoApp(root)\n",
    "    root.mainloop()"
   ]
  },
  {
   "cell_type": "code",
   "execution_count": 93,
   "id": "91e1f96a",
   "metadata": {},
   "outputs": [],
   "source": [
    "\n",
    "# --- Entry Point ---\n",
    "if __name__ == \"__main__\":\n",
    "    launch_gui()\n"
   ]
  },
  {
   "cell_type": "code",
   "execution_count": null,
   "id": "f839d6d3",
   "metadata": {},
   "outputs": [],
   "source": []
  }
 ],
 "metadata": {
  "kernelspec": {
   "display_name": "Python 3 (ipykernel)",
   "language": "python",
   "name": "python3"
  },
  "language_info": {
   "codemirror_mode": {
    "name": "ipython",
    "version": 3
   },
   "file_extension": ".py",
   "mimetype": "text/x-python",
   "name": "python",
   "nbconvert_exporter": "python",
   "pygments_lexer": "ipython3",
   "version": "3.11.5"
  }
 },
 "nbformat": 4,
 "nbformat_minor": 5
}
